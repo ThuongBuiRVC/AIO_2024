{
  "nbformat": 4,
  "nbformat_minor": 0,
  "metadata": {
    "colab": {
      "provenance": []
    },
    "kernelspec": {
      "name": "python3",
      "display_name": "Python 3"
    },
    "language_info": {
      "name": "python"
    }
  },
  "cells": [
    {
      "cell_type": "code",
      "execution_count": null,
      "metadata": {
        "id": "T9YbhYti2vjA"
      },
      "outputs": [],
      "source": [
        "#Viết function thực hiện đánh giá classification model bằng F1-Score.\n",
        "\n",
        "def exercise1(tp, fp, fn):\n",
        "  \"\"\"\n",
        "  • Input: function nhận 3 giá trị tp, fp, fn\n",
        "  • Output: print ra kết quả của Precision, Recall, và F1-score\n",
        "  \"\"\"\n",
        "  # Phải kiểm tra giá trị nhận vào tp, fp, fn là type int, nếu là type khác thì print ví dụ check fn là float, print ’fn must be int’ và thoát hàm hoặc dừng chương trình.\n",
        "  if type(tp) != int:\n",
        "    print('tp must be int')\n",
        "    return\n",
        "  if type(fp) != int:\n",
        "    print('fp must be int')\n",
        "    return\n",
        "  if type(fn) != int:\n",
        "    print('fn must be int')\n",
        "    return\n",
        "  # Yêu cầu tp, fp, fn phải đều lớn hơn 0, nếu không thì print ’tp and fp and fn must be greater than zero’ và thoát hàm hoặc dừng chương trình\n",
        "  if tp <= 0 or fp <= 0 or fn <= 0:\n",
        "    print('tp and fp and fn must be greater than zero')\n",
        "    return\n",
        "  Precision = tp / (tp + fp)\n",
        "  Recall = tp / (tp + fn)\n",
        "  F1_Score = 2 * Precision * Recall / (Precision + Recall)\n",
        "\n",
        "  print('Precision is', Precision)\n",
        "  print('Recall is', Recall)\n",
        "  print('F1-Score is ', F1_Score)\n"
      ]
    },
    {
      "cell_type": "code",
      "source": [
        "exercise1 ( tp =2 , fp =3 , fn =4)"
      ],
      "metadata": {
        "colab": {
          "base_uri": "https://localhost:8080/"
        },
        "id": "sjPKlT9d6Q3T",
        "outputId": "c465edb8-9f67-4cfb-dc56-8b89694343f5"
      },
      "execution_count": null,
      "outputs": [
        {
          "output_type": "stream",
          "name": "stdout",
          "text": [
            "Precision is 0.4\n",
            "Recall is 0.3333333333333333\n",
            "F1-Score is  0.3636363636363636\n"
          ]
        }
      ]
    },
    {
      "cell_type": "code",
      "source": [
        "exercise1 ( tp = 'a', fp =3 , fn =4)"
      ],
      "metadata": {
        "colab": {
          "base_uri": "https://localhost:8080/"
        },
        "id": "vi_6MdZn6rhU",
        "outputId": "5bf9bfc0-3fd7-497d-b738-58233aa56cbf"
      },
      "execution_count": null,
      "outputs": [
        {
          "output_type": "stream",
          "name": "stdout",
          "text": [
            "tp must be int\n"
          ]
        }
      ]
    },
    {
      "cell_type": "code",
      "source": [
        "exercise1 ( tp =2 , fp ='a', fn =4)"
      ],
      "metadata": {
        "colab": {
          "base_uri": "https://localhost:8080/"
        },
        "id": "2rlwzzWd6z2f",
        "outputId": "adfe9cd7-44d5-4f6a-8fdf-0835b21ad8d0"
      },
      "execution_count": null,
      "outputs": [
        {
          "output_type": "stream",
          "name": "stdout",
          "text": [
            "fp must be int\n"
          ]
        }
      ]
    },
    {
      "cell_type": "code",
      "source": [
        "exercise1( tp =2 , fp =3 , fn ='a')"
      ],
      "metadata": {
        "colab": {
          "base_uri": "https://localhost:8080/"
        },
        "id": "6yBfCGuP64dv",
        "outputId": "e5b4ccb3-dd08-491b-c79e-dab326ef9c1d"
      },
      "execution_count": null,
      "outputs": [
        {
          "output_type": "stream",
          "name": "stdout",
          "text": [
            "fn must be int\n"
          ]
        }
      ]
    },
    {
      "cell_type": "code",
      "source": [
        "exercise1 ( tp =2 , fp =3 , fn =0)"
      ],
      "metadata": {
        "colab": {
          "base_uri": "https://localhost:8080/"
        },
        "id": "Ie7KpSr-68wc",
        "outputId": "2e10785b-b934-41ab-9c85-6a21daa55dff"
      },
      "execution_count": null,
      "outputs": [
        {
          "output_type": "stream",
          "name": "stdout",
          "text": [
            "tp and fp and fn must be greater than zero\n"
          ]
        }
      ]
    },
    {
      "cell_type": "code",
      "source": [
        "exercise1 ( tp =2.1 , fp =3 , fn =0)"
      ],
      "metadata": {
        "colab": {
          "base_uri": "https://localhost:8080/"
        },
        "id": "Re8Wabxp7Cxw",
        "outputId": "fe9b8866-bee5-4500-8f62-cc0391b62b34"
      },
      "execution_count": null,
      "outputs": [
        {
          "output_type": "stream",
          "name": "stdout",
          "text": [
            "tp must be int\n"
          ]
        }
      ]
    },
    {
      "cell_type": "code",
      "source": [
        "# Viết function mô phỏng theo 3 activation function.\n",
        "import math\n",
        "def is_number ( n ) :\n",
        "  try :\n",
        "    float (n)   # Type - casting the string to ‘float ‘.\n",
        "                # If string is not a valid ‘float ‘ ,\n",
        "                # it ’ll raise ‘ValueError ‘ exception\n",
        "  except ValueError :\n",
        "    return False\n",
        "  return True\n",
        "def exercise2():\n",
        "  '''\n",
        "  • Input:\n",
        "  – Người dùng nhập giá trị x\n",
        "  – Người dùng nhập tên activation function chỉ có 3 loại (sigmoid, relu, elu)\n",
        "  • Output: Kết quả f(x) (x khi đi qua activation function tương ứng theo activation functionname). Ví dụ nhập x=3, activation_function = ’relu’. Output: print ’relu: f(3)=3’\n",
        "  '''\n",
        "  # • Dùng function is_number được cung cấp sẵn để kiểm tra x có hợp lệ hay không (vd: x=’10’, is_number(x) sẽ trả về True ngược lại là False).\n",
        "  # Nếu không hợp lệ print ’x must be a number’ và dừng chương trình.\n",
        "  x = input('Input x = ')\n",
        "  if not is_number(x):\n",
        "    print('x must be a number')\n",
        "    return\n",
        "  x = float(x)\n",
        "  # Kiểm tra activation function name có hợp lệ hay không nằm trong 3 tên (sigmoid, relu, elu).\n",
        "  # Nếu không print ’ten_function_user is not supported’ (vd người dùng nhập ’belu’ thì print ’belu is not supported’)\n",
        "  activation_function = input('Input activation Function ( sigmoid | relu | elu ): ')\n",
        "  if activation_function not in ('sigmoid', 'relu', 'elu'):\n",
        "    print(activation_function, 'is not supported')\n",
        "    return\n",
        "  # • Thực hiện theo công thức với activation name tương ứng. Print ra kết quả\n",
        "  # • Dùng math.e để lấy số e\n",
        "  # • α = 0.01\n",
        "  if activation_function == 'sigmoid':\n",
        "    f = 1 / (1 + math.e**(-x))\n",
        "    print(f'sigmoid : f({x}) = {f}')\n",
        "  elif activation_function == 'relu':\n",
        "    f = max(0, x)\n",
        "    print(f'relu : f({x}) = {f}')\n",
        "  elif activation_function == 'elu':\n",
        "    f = x if x > 0 else 0.01 * (math.exp(x) - 1)\n",
        "    print(f'elu : f({x}) = {f}')\n"
      ],
      "metadata": {
        "id": "GUiBDqZA7GJH"
      },
      "execution_count": null,
      "outputs": []
    },
    {
      "cell_type": "code",
      "source": [
        "exercise2 ()"
      ],
      "metadata": {
        "colab": {
          "base_uri": "https://localhost:8080/"
        },
        "id": "Xwh1wcWwAxta",
        "outputId": "8ea34823-2d80-4238-de5d-4d2122b5fd57"
      },
      "execution_count": null,
      "outputs": [
        {
          "output_type": "stream",
          "name": "stdout",
          "text": [
            "Input x = 1.5\n",
            "Input activation Function ( sigmoid | relu | elu ): sigmoid\n",
            "sigmoid : f(1.5) = 0.8175744761936437\n"
          ]
        }
      ]
    },
    {
      "cell_type": "code",
      "source": [
        "exercise2 ()"
      ],
      "metadata": {
        "colab": {
          "base_uri": "https://localhost:8080/"
        },
        "id": "Ae9R6DHVERRA",
        "outputId": "b7443430-1685-40ea-9bff-369d4742570d"
      },
      "execution_count": null,
      "outputs": [
        {
          "output_type": "stream",
          "name": "stdout",
          "text": [
            "Input x = abc\n",
            "x must be a number\n"
          ]
        }
      ]
    },
    {
      "cell_type": "code",
      "source": [
        "exercise2 ()"
      ],
      "metadata": {
        "colab": {
          "base_uri": "https://localhost:8080/"
        },
        "id": "kQmlz1v1EUVx",
        "outputId": "664f82f8-8c92-42a9-8a50-747123596468"
      },
      "execution_count": null,
      "outputs": [
        {
          "output_type": "stream",
          "name": "stdout",
          "text": [
            "Input x = 1.5\n",
            "Input activation Function ( sigmoid | relu | elu ): belu\n",
            "belu is not supported\n"
          ]
        }
      ]
    },
    {
      "cell_type": "code",
      "source": [
        "import math\n",
        "import random\n",
        "def MAE(samples):\n",
        "  loss = 0\n",
        "  for i in range(samples):\n",
        "    predict = random.uniform(0, 10)\n",
        "    target = random.uniform(0, 10)\n",
        "    loss = loss + abs(predict - target)\n",
        "    print(f'loss name : MAE, sample : {i} , pred : {predict} , target : {target} , loss : {loss}')\n",
        "  print('final MAE : ', (1/samples)*loss)\n",
        "def MSE(samples):\n",
        "  loss = 0\n",
        "  for i in range(samples):\n",
        "    predict = random.uniform(0, 10)\n",
        "    target = random.uniform(0, 10)\n",
        "    loss = loss + abs(predict - target)**2\n",
        "    print(f'loss name : MSE, sample : {i} , pred : {predict} , target : {target} , loss : {loss}')\n",
        "  print('final MSE : ', (1/samples)*loss)\n",
        "\n",
        "def RMSE(samples):\n",
        "  loss = 0\n",
        "  for i in range(samples):\n",
        "    predict = random.uniform(0, 10)\n",
        "    target = random.uniform(0, 10)\n",
        "    loss = loss + abs(predict - target)**2\n",
        "    print(f'loss name : MSE, sample : {i} , pred : {predict} , target : {target} , loss : {loss}')\n",
        "  print('final MSE : ', math.sqrt((1/samples)*loss))\n",
        "\n",
        "def exercise3():\n",
        "  '''\n",
        "    • Input:\n",
        "      – Người dùng nhập số lượng sample (num_samples) được tạo ra (chỉ nhận integer numbers)\n",
        "      – Người dùng nhập loss name (MAE, MSE, RMSE-(optional)) chỉ cần MAE và MSE, bạn nào muốn làm thêm RMSE đều được.\n",
        "    • Output: Print ra loss name, sample, predict, target, loss\n",
        "      – loss name: là loss mà người dùng chọn\n",
        "      – sample: là thứ tự sample được tạo ra (ví dụ num_samples=5, thì sẽ có 5 samples và mỗi sample là sample-0, sample-1, sample-2, sample-3, sample-4)\n",
        "      – predict: là số mà model dự đoán (chỉ cần dùng random tạo random một số trong range [0,10))\n",
        "      – target: là số target mà momg muốn mode dự đoán đúng (chỉ cần dùng random tạo random một số trong range [0,10))\n",
        "      – loss: là kết quả khi đưa predict và target vào hàm loss\n",
        "      – note: ví dụ num_sample=5 thì sẽ có 5 cặp predict và target.\n",
        "  '''\n",
        "  num_samples = input('Input number of samples ( integer number ) which are generated :')\n",
        "  # • Dùng .isnumeric() method để kiểm tra num_samples có hợp lệ hay không (vd: x=’10’, num_samples.isnumeric() sẽ trả về True ngược lại là False).\n",
        "  # Nếu không hợp lệ print ’number of samples must be an integer number’ và dừng chương trình.\n",
        "  if not num_samples.isnumeric():\n",
        "    print('number of samples must be an integer number')\n",
        "    return\n",
        "  num_samples = int(num_samples)\n",
        "  loss_name = input('Input loss name :')\n",
        "  #• Giả xử người dùng luôn nhập đúng loss name MSE, MAE, và RMSE (đơn giảng bước này để các bạn không cần check tên hợp lệ)\n",
        "  if loss_name == 'MAE':\n",
        "    MAE(num_samples)\n",
        "  elif loss_name == 'MSE':\n",
        "    MSE(num_samples)\n",
        "  else:\n",
        "    RMSE(num_samples)\n",
        "\n"
      ],
      "metadata": {
        "id": "2CMbKgK3_EVt"
      },
      "execution_count": null,
      "outputs": []
    },
    {
      "cell_type": "code",
      "source": [
        "exercise3 ()"
      ],
      "metadata": {
        "colab": {
          "base_uri": "https://localhost:8080/"
        },
        "id": "BNtuLo7KGo0v",
        "outputId": "705aa777-6217-4030-e6cf-e0cd9d8bdb1d"
      },
      "execution_count": null,
      "outputs": [
        {
          "output_type": "stream",
          "name": "stdout",
          "text": [
            "Input number of samples ( integer number ) which are generated :5\n",
            "Input loss name :RMSE\n",
            "loss name : MSE, sample : 0 , pred : 0.42575239615076144 , target : 5.328468217705247 , loss : 24.036622426920673\n",
            "loss name : MSE, sample : 1 , pred : 8.139195166650154 , target : 7.661860342995249 , loss : 24.26447096079433\n",
            "loss name : MSE, sample : 2 , pred : 3.8559069552262426 , target : 5.176403766315035 , loss : 26.00818278889\n",
            "loss name : MSE, sample : 3 , pred : 8.77411734647505 , target : 7.188380062858009 , loss : 28.52274552154315\n",
            "loss name : MSE, sample : 4 , pred : 6.515112552650864 , target : 8.037415284489914 , loss : 30.840151128907785\n",
            "final MSE :  2.4835519374036767\n"
          ]
        }
      ]
    },
    {
      "cell_type": "code",
      "source": [
        "exercise3 ()"
      ],
      "metadata": {
        "colab": {
          "base_uri": "https://localhost:8080/"
        },
        "id": "6Dg0gewIJycD",
        "outputId": "72469322-8e87-4245-940b-b0e6399d13b0"
      },
      "execution_count": null,
      "outputs": [
        {
          "output_type": "stream",
          "name": "stdout",
          "text": [
            "Input number of samples ( integer number ) which are generated :aa\n",
            "number of samples must be an integer number\n"
          ]
        }
      ]
    },
    {
      "cell_type": "code",
      "source": [
        "def factorial(n):\n",
        "  factorial = 1\n",
        "  for i in range(1, n + 1):\n",
        "    factorial = factorial * i\n",
        "  return factorial\n",
        "\n",
        "def approx_sin (x, n):\n",
        "  '''\n",
        "  • Input: x (số muốn tính toán) và n (số lần lặp muốn xấp xỉ)\n",
        "  • Output: Kết quả ước lượng hàm tương ứng với x.\n",
        "  '''\n",
        "  sin = 0\n",
        "  for i in range(n+1):\n",
        "    sin = sin + ((-1)**i) * (x**(2*i+1)) / factorial(2*i+1)\n",
        "  print(sin)\n",
        "\n",
        "def approx_cos (x, n):\n",
        "  '''\n",
        "  • Input: x (số muốn tính toán) và n (số lần lặp muốn xấp xỉ)\n",
        "  • Output: Kết quả ước lượng hàm tương ứng với x.\n",
        "  '''\n",
        "  cos = 0\n",
        "  for i in range(n+1):\n",
        "    cos = cos + ((-1)**i) * (x**(2*i)) / factorial(2*i)\n",
        "  print(cos)\n",
        "\n",
        "def approx_sinh (x, n):\n",
        "  '''\n",
        "  • Input: x (số muốn tính toán) và n (số lần lặp muốn xấp xỉ)\n",
        "  • Output: Kết quả ước lượng hàm tương ứng với x.\n",
        "  '''\n",
        "  sinh = 0\n",
        "  for i in range(n+1):\n",
        "    sinh = sinh + (x**(2*i+1)) / factorial(2*i+1)\n",
        "  print(sinh)\n",
        "\n",
        "def approx_cosh (x, n):\n",
        "  '''\n",
        "  • Input: x (số muốn tính toán) và n (số lần lặp muốn xấp xỉ)\n",
        "  • Output: Kết quả ước lượng hàm tương ứng với x.\n",
        "  '''\n",
        "  cosh = 0\n",
        "  for i in range(n+1):\n",
        "    cosh = cosh + (x**(2*i)) / factorial(2*i)\n",
        "  print(cosh)"
      ],
      "metadata": {
        "id": "VpCC5G9EKgsE"
      },
      "execution_count": null,
      "outputs": []
    },
    {
      "cell_type": "code",
      "source": [
        "approx_sin ( x =3.14 , n =10)"
      ],
      "metadata": {
        "colab": {
          "base_uri": "https://localhost:8080/"
        },
        "id": "_WTnvYiIMtgQ",
        "outputId": "7ff0337f-d3bf-4d62-c840-803449806f4c"
      },
      "execution_count": null,
      "outputs": [
        {
          "output_type": "stream",
          "name": "stdout",
          "text": [
            "0.0015926529267151343\n"
          ]
        }
      ]
    },
    {
      "cell_type": "code",
      "source": [
        "approx_cos ( x =3.14 , n =10)"
      ],
      "metadata": {
        "colab": {
          "base_uri": "https://localhost:8080/"
        },
        "id": "GNefu3olM_Tw",
        "outputId": "bcd10380-b1cb-469f-a221-94754f73c1d6"
      },
      "execution_count": null,
      "outputs": [
        {
          "output_type": "stream",
          "name": "stdout",
          "text": [
            "-0.9999987316527259\n"
          ]
        }
      ]
    },
    {
      "cell_type": "code",
      "source": [
        "approx_sinh ( x =3.14 , n =10)"
      ],
      "metadata": {
        "colab": {
          "base_uri": "https://localhost:8080/"
        },
        "id": "Bf_Y5xd-NBxI",
        "outputId": "14cb2833-87be-4caf-a4f7-bb2b0c22417e"
      },
      "execution_count": null,
      "outputs": [
        {
          "output_type": "stream",
          "name": "stdout",
          "text": [
            "11.53029203039954\n"
          ]
        }
      ]
    },
    {
      "cell_type": "code",
      "source": [
        "approx_cosh ( x =3.14 , n =10)"
      ],
      "metadata": {
        "colab": {
          "base_uri": "https://localhost:8080/"
        },
        "id": "puZV6EMPNS_C",
        "outputId": "9782492a-a793-4ff2-96f8-ef1e7e5be3f1"
      },
      "execution_count": null,
      "outputs": [
        {
          "output_type": "stream",
          "name": "stdout",
          "text": [
            "11.573574828234543\n"
          ]
        }
      ]
    },
    {
      "cell_type": "code",
      "source": [
        "exercise2()"
      ],
      "metadata": {
        "colab": {
          "base_uri": "https://localhost:8080/"
        },
        "id": "0sffCRgjQpF1",
        "outputId": "7f0517c3-d94f-47a0-dccc-3e7b43f29d05"
      },
      "execution_count": null,
      "outputs": [
        {
          "output_type": "stream",
          "name": "stdout",
          "text": [
            "Input x = 3\n",
            "Input activation Function ( sigmoid | relu | elu ): sigmoid\n",
            "sigmoid : f(3.0) = 0.9525741268224331\n"
          ]
        }
      ]
    },
    {
      "cell_type": "markdown",
      "source": [],
      "metadata": {
        "id": "bNUmkPnbVkEG"
      }
    },
    {
      "cell_type": "code",
      "source": [
        "def md_nre_single_sample ( y, y_hat , n, p):\n",
        "  '''\n",
        "  • Input: y (giá trị của y), y_hat (gía trị của yˆ), n (căn bậc n), và p (bậc của hàm loss)\n",
        "  • Output: Kết quả của hàm loss\n",
        "  '''\n",
        "  return (y**(1/n) - y_hat**(1/n)) ** p"
      ],
      "metadata": {
        "id": "MXEyZFkjidBU"
      },
      "execution_count": 1,
      "outputs": []
    },
    {
      "cell_type": "code",
      "source": [
        "md_nre_single_sample ( y =100 , y_hat =99.5 , n =2 , p =1)"
      ],
      "metadata": {
        "colab": {
          "base_uri": "https://localhost:8080/"
        },
        "id": "KDjdf6lujfUb",
        "outputId": "eaeecff9-3d50-430c-be3f-7e93668003d7"
      },
      "execution_count": 2,
      "outputs": [
        {
          "output_type": "execute_result",
          "data": {
            "text/plain": [
              "0.025031328369998107"
            ]
          },
          "metadata": {},
          "execution_count": 2
        }
      ]
    },
    {
      "cell_type": "code",
      "source": [
        "md_nre_single_sample ( y =50 , y_hat =49.5 , n =2 , p =1)"
      ],
      "metadata": {
        "colab": {
          "base_uri": "https://localhost:8080/"
        },
        "id": "Krad6Qm8jkc2",
        "outputId": "19b3bb32-8c3f-4425-8f6c-0df0d11f4406"
      },
      "execution_count": 3,
      "outputs": [
        {
          "output_type": "execute_result",
          "data": {
            "text/plain": [
              "0.03544417213033135"
            ]
          },
          "metadata": {},
          "execution_count": 3
        }
      ]
    },
    {
      "cell_type": "code",
      "source": [
        "md_nre_single_sample ( y =20 , y_hat =19.5 , n =2 , p =1)"
      ],
      "metadata": {
        "colab": {
          "base_uri": "https://localhost:8080/"
        },
        "id": "vNzcmCdNjnU1",
        "outputId": "67531cfc-9611-4644-9713-78e62c4ee377"
      },
      "execution_count": 5,
      "outputs": [
        {
          "output_type": "execute_result",
          "data": {
            "text/plain": [
              "0.05625552183565574"
            ]
          },
          "metadata": {},
          "execution_count": 5
        }
      ]
    },
    {
      "cell_type": "code",
      "source": [
        "md_nre_single_sample ( y =0.6 , y_hat =0.1 , n =2 , p =1)"
      ],
      "metadata": {
        "id": "sB_Sl_H8js-Z",
        "outputId": "91e7a1d1-3d89-470a-f483-aab2f1993231",
        "colab": {
          "base_uri": "https://localhost:8080/"
        }
      },
      "execution_count": 6,
      "outputs": [
        {
          "output_type": "execute_result",
          "data": {
            "text/plain": [
              "0.45836890322464546"
            ]
          },
          "metadata": {},
          "execution_count": 6
        }
      ]
    }
  ]
}