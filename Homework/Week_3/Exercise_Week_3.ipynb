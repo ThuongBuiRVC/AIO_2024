{
  "nbformat": 4,
  "nbformat_minor": 0,
  "metadata": {
    "colab": {
      "provenance": []
    },
    "kernelspec": {
      "name": "python3",
      "display_name": "Python 3"
    },
    "language_info": {
      "name": "python"
    }
  },
  "cells": [
    {
      "cell_type": "code",
      "execution_count": 1,
      "metadata": {
        "colab": {
          "base_uri": "https://localhost:8080/"
        },
        "id": "HypkOgkIzxMW",
        "outputId": "711c143b-54d5-4c8e-b4ac-3852da1c6664"
      },
      "outputs": [
        {
          "output_type": "stream",
          "name": "stdout",
          "text": [
            "Output Softmax: tensor([0.0900, 0.2447, 0.6652])\n",
            "Output SoftmaxStable: tensor([0.0900, 0.2447, 0.6652])\n"
          ]
        }
      ],
      "source": [
        "import torch\n",
        "import torch.nn as nn\n",
        "\n",
        "class Softmax(nn.Module):\n",
        "    def __init__(self):\n",
        "        super(Softmax, self).__init__()\n",
        "\n",
        "    def forward(self, x):\n",
        "        exp_x = torch.exp(x)\n",
        "        sum_exp_x = torch.sum(exp_x)\n",
        "        return exp_x / sum_exp_x\n",
        "\n",
        "class SoftmaxStable(nn.Module):\n",
        "    def __init__(self):\n",
        "        super(SoftmaxStable, self).__init__()\n",
        "\n",
        "    def forward(self, x):\n",
        "        c = torch.max(x)\n",
        "        exp_x = torch.exp(x - c)\n",
        "        sum_exp_x = torch.sum(exp_x)\n",
        "        return exp_x / sum_exp_x\n",
        "\n",
        "# Example 1\n",
        "data = torch.Tensor([1, 2, 3])\n",
        "softmax = Softmax()\n",
        "output = softmax(data)\n",
        "print(\"Output Softmax:\", output)\n",
        "\n",
        "data = torch.Tensor([1, 2, 3])\n",
        "softmax_stable = SoftmaxStable()\n",
        "output = softmax_stable(data)\n",
        "print(\"Output SoftmaxStable:\", output)"
      ]
    },
    {
      "cell_type": "code",
      "source": [
        "data = torch . Tensor ([1 , 2 , 3])\n",
        "softmax_function = nn . Softmax ( dim =0)\n",
        "output = softmax_function ( data )\n",
        "assert round ( output [0]. item () , 2) == 0.09\n",
        "output"
      ],
      "metadata": {
        "colab": {
          "base_uri": "https://localhost:8080/"
        },
        "id": "yJcoJ_bK0NE2",
        "outputId": "0bec778c-2f48-410d-cfe9-08cd51d5344e"
      },
      "execution_count": 3,
      "outputs": [
        {
          "output_type": "execute_result",
          "data": {
            "text/plain": [
              "tensor([0.0900, 0.2447, 0.6652])"
            ]
          },
          "metadata": {},
          "execution_count": 3
        }
      ]
    },
    {
      "cell_type": "code",
      "source": [
        "import torch\n",
        "import torch . nn as nn\n",
        "\n",
        "class MySoftmax ( nn . Module ) :\n",
        "  def __init__ ( self ) :\n",
        "    super().__init__()\n",
        "\n",
        "  def forward ( self , x ) :\n",
        "    ### Your Code Here\n",
        "    exp_x = torch.exp(x)\n",
        "    sum_exp_x = torch.sum(exp_x)\n",
        "    return exp_x / sum_exp_x\n",
        "    ### End Code Here\n",
        "\n",
        "data = torch . Tensor ([5 , 2 , 4])\n",
        "my_softmax = MySoftmax ()\n",
        "output = my_softmax ( data )\n",
        "assert round ( output [ -1]. item () , 2) == 0.26\n",
        "output"
      ],
      "metadata": {
        "colab": {
          "base_uri": "https://localhost:8080/"
        },
        "id": "tGLwc7Z70pcb",
        "outputId": "ecf913a1-b67e-4396-b5ef-3327f81a15db"
      },
      "execution_count": 4,
      "outputs": [
        {
          "output_type": "execute_result",
          "data": {
            "text/plain": [
              "tensor([0.7054, 0.0351, 0.2595])"
            ]
          },
          "metadata": {},
          "execution_count": 4
        }
      ]
    },
    {
      "cell_type": "code",
      "source": [
        "import torch\n",
        "import torch.nn as nn\n",
        "\n",
        "class MySoftmax(nn.Module):\n",
        "    def __init__(self):\n",
        "        super(MySoftmax, self).__init__()\n",
        "\n",
        "    def forward(self, x):\n",
        "        ### Your Code Here\n",
        "        c = torch.max(x)\n",
        "        exp_x = torch.exp(x - c)\n",
        "        sum_exp_x = torch.sum(exp_x)\n",
        "        return exp_x / sum_exp_x\n",
        "        ### End Code Here\n",
        "\n",
        "data = torch.Tensor([1, 2, 300000000])\n",
        "my_softmax = MySoftmax()\n",
        "output = my_softmax(data)\n",
        "\n",
        "# Kiểm tra output\n",
        "assert round(output[0].item(), 2) == 0.0\n",
        "\n",
        "print(\"Output:\", output)"
      ],
      "metadata": {
        "colab": {
          "base_uri": "https://localhost:8080/"
        },
        "id": "PfMNuO4w1bzK",
        "outputId": "9ed2f4c2-a0af-4a87-e615-5d4b9ded0447"
      },
      "execution_count": 7,
      "outputs": [
        {
          "output_type": "stream",
          "name": "stdout",
          "text": [
            "Output: tensor([0., 0., 1.])\n"
          ]
        }
      ]
    },
    {
      "cell_type": "code",
      "source": [
        "import torch\n",
        "import torch.nn as nn\n",
        "\n",
        "class SoftmaxStable(nn.Module):\n",
        "    def __init__(self):\n",
        "        super(SoftmaxStable, self).__init__()\n",
        "\n",
        "    def forward(self, x):\n",
        "        x_max = torch.max(x, dim=0, keepdim=True).values  # Tìm giá trị lớn nhất trong x\n",
        "        x_exp = torch.exp(x - x_max)  # Tính exp(x - c)\n",
        "        partition = x_exp.sum(dim=0, keepdim=True)  # Tính tổng của exp(x - c)\n",
        "        return x_exp / partition  # Chia từng phần tử cho tổng\n",
        "\n",
        "data = torch.Tensor([1, 2, 3])\n",
        "softmax_stable = SoftmaxStable()\n",
        "output = softmax_stable(data)\n",
        "\n",
        "# Kiểm tra output\n",
        "assert round(output[-1].item(), 2) == 0.67\n",
        "\n",
        "print(\"Output:\", output)\n"
      ],
      "metadata": {
        "colab": {
          "base_uri": "https://localhost:8080/"
        },
        "id": "fvq-JQr221_R",
        "outputId": "29c48a51-9e8b-4b8c-cd5f-88e4309ec958"
      },
      "execution_count": 8,
      "outputs": [
        {
          "output_type": "stream",
          "name": "stdout",
          "text": [
            "Output: tensor([0.0900, 0.2447, 0.6652])\n"
          ]
        }
      ]
    },
    {
      "cell_type": "code",
      "source": [
        "from abc import ABC, abstractmethod\n",
        "\n",
        "class Person(ABC):\n",
        "    def __init__(self, name: str, yob: int):\n",
        "        self._name = name\n",
        "        self._yob = yob\n",
        "\n",
        "    def get_yob(self):\n",
        "        return self._yob\n",
        "\n",
        "    @abstractmethod\n",
        "    def describe(self):\n",
        "        pass\n",
        "\n",
        "class Student(Person):\n",
        "    def __init__(self, name: str, yob: int, grade: str):\n",
        "        super().__init__(name, yob)\n",
        "        self._grade = grade\n",
        "\n",
        "    def describe(self):\n",
        "        print(f\"Name: {self._name}, Year of Birth: {self._yob}, Grade: {self._grade}\")\n",
        "\n",
        "# Tạo đối tượng student1\n",
        "student1 = Student(name=\"studentZ2023\", yob=2011, grade=\"6\")\n",
        "\n",
        "# Kiểm tra giá trị của thuộc tính _yob\n",
        "assert student1._yob == 2011\n",
        "\n",
        "# Gọi phương thức describe để in thông tin của đối tượng\n",
        "student1.describe()\n"
      ],
      "metadata": {
        "colab": {
          "base_uri": "https://localhost:8080/"
        },
        "id": "6AXDHOd03OkS",
        "outputId": "8d01fbae-a810-422d-f793-4a6727a75c62"
      },
      "execution_count": 9,
      "outputs": [
        {
          "output_type": "stream",
          "name": "stdout",
          "text": [
            "Name: studentZ2023, Year of Birth: 2011, Grade: 6\n"
          ]
        }
      ]
    },
    {
      "cell_type": "code",
      "source": [
        "from abc import ABC, abstractmethod\n",
        "\n",
        "class Person(ABC):\n",
        "    def __init__(self, name: str, yob: int):\n",
        "        self._name = name\n",
        "        self._yob = yob\n",
        "\n",
        "    def get_yob(self):\n",
        "        return self._yob\n",
        "\n",
        "    @abstractmethod\n",
        "    def describe(self):\n",
        "        pass\n",
        "\n",
        "class Teacher(Person):\n",
        "    def __init__(self, name: str, yob: int, subject: str):\n",
        "        super().__init__(name, yob)\n",
        "        self._subject = subject\n",
        "\n",
        "    def describe(self):\n",
        "        print(f\"Name: {self._name}, Year of Birth: {self._yob}, Subject: {self._subject}\")\n",
        "\n",
        "# Tạo đối tượng teacher1\n",
        "teacher1 = Teacher(name=\"teacherZ2023\", yob=1991, subject=\"History\")\n",
        "\n",
        "# Kiểm tra giá trị của thuộc tính _yob\n",
        "assert teacher1._yob == 1991\n",
        "\n",
        "# Gọi phương thức describe để in thông tin của đối tượng\n",
        "teacher1.describe()\n"
      ],
      "metadata": {
        "colab": {
          "base_uri": "https://localhost:8080/"
        },
        "id": "yGfwFDrj3k5s",
        "outputId": "862bd126-6a65-407b-b11f-4ef400c6f070"
      },
      "execution_count": 10,
      "outputs": [
        {
          "output_type": "stream",
          "name": "stdout",
          "text": [
            "Name: teacherZ2023, Year of Birth: 1991, Subject: History\n"
          ]
        }
      ]
    },
    {
      "cell_type": "code",
      "source": [
        "from abc import ABC, abstractmethod\n",
        "\n",
        "class Person(ABC):\n",
        "    def __init__(self, name: str, yob: int):\n",
        "        self._name = name\n",
        "        self._yob = yob\n",
        "\n",
        "    def get_yob(self):\n",
        "        return self._yob\n",
        "\n",
        "    @abstractmethod\n",
        "    def describe(self):\n",
        "        pass\n",
        "\n",
        "class Doctor(Person):\n",
        "    def __init__(self, name: str, yob: int, specialist: str):\n",
        "        super().__init__(name, yob)\n",
        "        self._specialist = specialist\n",
        "\n",
        "    def describe(self):\n",
        "        print(f\"Name: {self._name}, Year of Birth: {self._yob}, Specialist: {self._specialist}\")\n",
        "\n",
        "# Tạo đối tượng doctor1\n",
        "doctor1 = Doctor(name=\"doctorZ2023\", yob=1981, specialist=\"Endocrinologists\")\n",
        "\n",
        "# Kiểm tra giá trị của thuộc tính _yob\n",
        "assert doctor1._yob == 1981\n",
        "\n",
        "# Gọi phương thức describe để in thông tin của đối tượng\n",
        "doctor1.describe()\n"
      ],
      "metadata": {
        "colab": {
          "base_uri": "https://localhost:8080/"
        },
        "id": "ZCsFk2Dh31rc",
        "outputId": "c06cafd7-e69c-4628-8ddd-4c8d14f91d03"
      },
      "execution_count": 11,
      "outputs": [
        {
          "output_type": "stream",
          "name": "stdout",
          "text": [
            "Name: doctorZ2023, Year of Birth: 1981, Specialist: Endocrinologists\n"
          ]
        }
      ]
    },
    {
      "cell_type": "code",
      "source": [
        "class Person:\n",
        "    def __init__(self, name: str, yob: int):\n",
        "        self.name = name\n",
        "        self.yob = yob\n",
        "\n",
        "    def describe(self):\n",
        "        raise NotImplementedError(\"Subclasses should implement this method.\")\n",
        "\n",
        "\n",
        "class Student(Person):\n",
        "    def __init__(self, name: str, yob: int, grade: str):\n",
        "        super().__init__(name, yob)\n",
        "        self.grade = grade\n",
        "\n",
        "    def describe(self):\n",
        "        print(f\"Student: {self.name}, Grade: {self.grade}\")\n",
        "\n",
        "\n",
        "class Teacher(Person):\n",
        "    def __init__(self, name: str, yob: int, subject: str):\n",
        "        super().__init__(name, yob)\n",
        "        self.subject = subject\n",
        "\n",
        "    def describe(self):\n",
        "        print(f\"Teacher: {self.name}, Subject: {self.subject}\")\n",
        "\n",
        "\n",
        "class Doctor(Person):\n",
        "    def __init__(self, name: str, yob: int, specialist: str):\n",
        "        super().__init__(name, yob)\n",
        "        self.specialist = specialist\n",
        "\n",
        "    def describe(self):\n",
        "        print(f\"Doctor: {self.name}, Specialist: {self.specialist}\")\n",
        "\n",
        "\n",
        "class Ward:\n",
        "    def __init__(self, name: str):\n",
        "        self.__name = name\n",
        "        self.__listPeople = list()\n",
        "\n",
        "    def add_person(self, person: Person):\n",
        "        self.__listPeople.append(person)\n",
        "\n",
        "    def describe(self):\n",
        "        print(f\"Ward Name: {self.__name}\")\n",
        "        for p in self.__listPeople:\n",
        "            p.describe()\n",
        "\n",
        "    def count_doctor(self):\n",
        "        return sum(isinstance(p, Doctor) for p in self.__listPeople)\n",
        "\n",
        "\n",
        "# Testing the functionality\n",
        "student1 = Student(name=\"studentA\", yob=2010, grade=\"7\")\n",
        "teacher1 = Teacher(name=\"teacherA\", yob=1969, subject=\"Math\")\n",
        "teacher2 = Teacher(name=\"teacherB\", yob=1995, subject=\"History\")\n",
        "doctor1 = Doctor(name=\"doctorA\", yob=1945, specialist=\"Endocrinologists\")\n",
        "doctor2 = Doctor(name=\"doctorB\", yob=1975, specialist=\"Cardiologists\")\n",
        "\n",
        "ward1 = Ward(name=\"Ward1\")\n",
        "ward1.add_person(student1)\n",
        "ward1.add_person(teacher1)\n",
        "ward1.add_person(teacher2)\n",
        "ward1.add_person(doctor1)\n",
        "ward1.add_person(doctor2)\n",
        "\n",
        "ward1.describe()  # Output the details of all people in the ward\n",
        "print(f\"Number of doctors: {ward1.count_doctor()}\")  # Output the number of doctors in the ward\n"
      ],
      "metadata": {
        "colab": {
          "base_uri": "https://localhost:8080/"
        },
        "id": "AzMsAH9y4fFZ",
        "outputId": "333cd0ef-49a4-443b-e6b5-4c596d1d3ab1"
      },
      "execution_count": 12,
      "outputs": [
        {
          "output_type": "stream",
          "name": "stdout",
          "text": [
            "Ward Name: Ward1\n",
            "Student: studentA, Grade: 7\n",
            "Teacher: teacherA, Subject: Math\n",
            "Teacher: teacherB, Subject: History\n",
            "Doctor: doctorA, Specialist: Endocrinologists\n",
            "Doctor: doctorB, Specialist: Cardiologists\n",
            "Number of doctors: 2\n"
          ]
        }
      ]
    },
    {
      "cell_type": "code",
      "source": [
        "class MyStack:\n",
        "    def __init__(self, capacity):\n",
        "        self.__capacity = capacity\n",
        "        self.__stack = []\n",
        "\n",
        "    def is_full(self):\n",
        "        return len(self.__stack) == self.__capacity\n",
        "\n",
        "    def push(self, value):\n",
        "        if len(self.__stack) < self.__capacity:\n",
        "            self.__stack.append(value)\n",
        "        else:\n",
        "            print(\"Stack is full. Cannot push more elements.\")\n",
        "\n",
        "# Testing the stack operations\n",
        "stack1 = MyStack(capacity=5)\n",
        "stack1.push(1)\n",
        "\n",
        "assert stack1.is_full() == False  # Stack should not be full after pushing one element\n",
        "stack1.push(2)\n",
        "print(stack1.is_full())  # Output: False, because stack capacity is 5 and only 2 elements are pushed\n"
      ],
      "metadata": {
        "colab": {
          "base_uri": "https://localhost:8080/"
        },
        "id": "IG9Pmsqh4sDJ",
        "outputId": "63f14d72-fc6c-4ebf-d92c-698061f1d838"
      },
      "execution_count": 13,
      "outputs": [
        {
          "output_type": "stream",
          "name": "stdout",
          "text": [
            "False\n"
          ]
        }
      ]
    },
    {
      "cell_type": "code",
      "source": [
        "class MyStack:\n",
        "    def __init__(self, capacity):\n",
        "        self.__capacity = capacity\n",
        "        self.__stack = []\n",
        "\n",
        "    def is_empty(self):\n",
        "        return len(self.__stack) == 0\n",
        "\n",
        "    def is_full(self):\n",
        "        return len(self.__stack) == self.__capacity\n",
        "\n",
        "    def push(self, value):\n",
        "        if len(self.__stack) < self.__capacity:\n",
        "            self.__stack.append(value)\n",
        "        else:\n",
        "            print(\"Stack is full. Cannot push more elements.\")\n",
        "\n",
        "    def top(self):\n",
        "        if not self.is_empty():\n",
        "            return self.__stack[-1]\n",
        "        else:\n",
        "            raise Exception(\"Stack is empty. No top element.\")\n",
        "\n",
        "# Testing the stack operations\n",
        "stack1 = MyStack(capacity=5)\n",
        "stack1.push(1)\n",
        "\n",
        "assert stack1.is_full() == False  # Stack should not be full after pushing one element\n",
        "stack1.push(2)\n",
        "print(stack1.top())  # Output: 2, as it is the top element\n"
      ],
      "metadata": {
        "colab": {
          "base_uri": "https://localhost:8080/"
        },
        "id": "_dWjBRNW47RX",
        "outputId": "609840ae-40d7-4561-e2b3-d108f2ab58a1"
      },
      "execution_count": 14,
      "outputs": [
        {
          "output_type": "stream",
          "name": "stdout",
          "text": [
            "2\n"
          ]
        }
      ]
    },
    {
      "cell_type": "code",
      "source": [
        "class MyQueue:\n",
        "    def __init__(self, capacity):\n",
        "        self.__capacity = capacity\n",
        "        self.__queue = []\n",
        "\n",
        "    def is_full(self):\n",
        "        return len(self.__queue) == self.__capacity\n",
        "\n",
        "    def enqueue(self, value):\n",
        "        if len(self.__queue) < self.__capacity:\n",
        "            self.__queue.append(value)\n",
        "        else:\n",
        "            print(\"Queue is full. Cannot enqueue more elements.\")\n",
        "\n",
        "# Testing the queue operations\n",
        "queue1 = MyQueue(capacity=5)\n",
        "queue1.enqueue(1)\n",
        "\n",
        "assert queue1.is_full() == False  # Queue should not be full after enqueueing one element\n",
        "queue1.enqueue(2)\n",
        "print(queue1.is_full())  # Output: False, because queue capacity is 5 and only 2 elements are enqueued\n"
      ],
      "metadata": {
        "colab": {
          "base_uri": "https://localhost:8080/"
        },
        "id": "XmvUqfLj5DIJ",
        "outputId": "d6935a57-8a69-489b-bc4b-df1cbc8a5fa9"
      },
      "execution_count": 15,
      "outputs": [
        {
          "output_type": "stream",
          "name": "stdout",
          "text": [
            "False\n"
          ]
        }
      ]
    },
    {
      "cell_type": "code",
      "source": [
        "class MyQueue:\n",
        "    def __init__(self, capacity):\n",
        "        self.__capacity = capacity\n",
        "        self.__queue = []\n",
        "\n",
        "    def is_full(self):\n",
        "        return len(self.__queue) == self.__capacity\n",
        "\n",
        "    def enqueue(self, value):\n",
        "        if len(self.__queue) < self.__capacity:\n",
        "            self.__queue.append(value)\n",
        "        else:\n",
        "            print(\"Queue is full. Cannot enqueue more elements.\")\n",
        "\n",
        "    def front(self):\n",
        "        if not self.is_empty():\n",
        "            return self.__queue[0]\n",
        "        else:\n",
        "            raise Exception(\"Queue is empty. No front element.\")\n",
        "\n",
        "    def is_empty(self):\n",
        "        return len(self.__queue) == 0\n",
        "\n",
        "# Testing the queue operations\n",
        "queue1 = MyQueue(capacity=5)\n",
        "queue1.enqueue(1)\n",
        "\n",
        "assert queue1.is_full() == False  # Queue should not be full after enqueueing one element\n",
        "queue1.enqueue(2)\n",
        "print(queue1.front())  # Output: 1, as it is the front element of the queue\n"
      ],
      "metadata": {
        "colab": {
          "base_uri": "https://localhost:8080/"
        },
        "id": "txPJWNpE5LBR",
        "outputId": "a1a106b3-8fd5-44b5-d540-36e16744a5e1"
      },
      "execution_count": 16,
      "outputs": [
        {
          "output_type": "stream",
          "name": "stdout",
          "text": [
            "1\n"
          ]
        }
      ]
    }
  ]
}