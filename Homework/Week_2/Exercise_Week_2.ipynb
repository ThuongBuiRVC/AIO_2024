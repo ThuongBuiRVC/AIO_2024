{
  "nbformat": 4,
  "nbformat_minor": 0,
  "metadata": {
    "colab": {
      "provenance": [],
      "gpuType": "T4"
    },
    "kernelspec": {
      "name": "python3",
      "display_name": "Python 3"
    },
    "language_info": {
      "name": "python"
    },
    "accelerator": "GPU"
  },
  "cells": [
    {
      "cell_type": "code",
      "execution_count": null,
      "metadata": {
        "id": "aUUyy6tPr3MQ",
        "colab": {
          "base_uri": "https://localhost:8080/"
        },
        "outputId": "133d1d74-be89-4fd6-8a4b-420957696954"
      },
      "outputs": [
        {
          "output_type": "stream",
          "name": "stdout",
          "text": [
            "[5, 5, 5, 5, 10, 12, 33, 33]\n"
          ]
        }
      ],
      "source": [
        "def max_kernel ( num_list , k ) :\n",
        "  result = []\n",
        "  # Your Code Here\n",
        "  for i in range(len(num_list)-k+1):\n",
        "    result.append(max(num_list[i:i+k]))\n",
        "  # End Code Here\n",
        "\n",
        "  return result\n",
        "\n",
        "assert max_kernel ([3 , 4 , 5 , 1 , -44] , 3) == [5 , 5 , 5]\n",
        "num_list = [3 , 4 , 5 , 1 , -44 , 5 ,10 , 12 ,33 , 1]\n",
        "k = 3\n",
        "print ( max_kernel ( num_list , k ) )"
      ]
    },
    {
      "cell_type": "code",
      "source": [
        "def character_count ( word ) :\n",
        "  character_statistic = {}\n",
        "  # Your Code Here\n",
        "  for char in word:\n",
        "    if char in character_statistic:\n",
        "      character_statistic[char] += 1\n",
        "    else:\n",
        "      character_statistic[char] = 1\n",
        "  # End Code Here\n",
        "  return character_statistic\n",
        "\n",
        "assert character_count (\"Baby\") == {'B': 1 , 'a': 1 , 'b': 1 , 'y': 1}\n",
        "print(character_count('smiles'))"
      ],
      "metadata": {
        "colab": {
          "base_uri": "https://localhost:8080/"
        },
        "id": "YB4mOeXAAnlN",
        "outputId": "90a6cdcf-f674-49e8-a917-71edaa01d216"
      },
      "execution_count": null,
      "outputs": [
        {
          "output_type": "stream",
          "name": "stdout",
          "text": [
            "{'s': 2, 'm': 1, 'i': 1, 'l': 1, 'e': 1}\n"
          ]
        }
      ]
    },
    {
      "cell_type": "code",
      "source": [
        "! gdown https://drive.google.com/uc?id=1IBScGdW2xlNsc9v5zSAya548kNgiOrko"
      ],
      "metadata": {
        "colab": {
          "base_uri": "https://localhost:8080/"
        },
        "id": "oQ-2hStLBu1D",
        "outputId": "a208110c-26bd-4964-e165-0c3d516e0fe3"
      },
      "execution_count": null,
      "outputs": [
        {
          "output_type": "stream",
          "name": "stdout",
          "text": [
            "Downloading...\n",
            "From: https://drive.google.com/uc?id=1IBScGdW2xlNsc9v5zSAya548kNgiOrko\n",
            "To: /content/P1_data.txt\n",
            "\r  0% 0.00/747 [00:00<?, ?B/s]\r100% 747/747 [00:00<00:00, 4.18MB/s]\n"
          ]
        }
      ]
    },
    {
      "cell_type": "code",
      "source": [
        "\n",
        "def count_word ( file_path ) :\n",
        "  counter = {}\n",
        "  # Your Code Here\n",
        "  with open(file_path) as f:\n",
        "    for line in f:\n",
        "      for word in line.split():\n",
        "        if word in counter:\n",
        "          counter[word] += 1\n",
        "        else:\n",
        "          counter[word] = 1\n",
        "  # End Code Here\n",
        "  return counter\n",
        "file_path = '/content/P1_data.txt'\n",
        "result = count_word(file_path)\n",
        "assert result ['who'] == 3\n",
        "print(result ['man'])"
      ],
      "metadata": {
        "colab": {
          "base_uri": "https://localhost:8080/"
        },
        "id": "UYq_ClLlCF_w",
        "outputId": "752aef07-afc8-48df-801a-8256b0ed1ef0"
      },
      "execution_count": null,
      "outputs": [
        {
          "output_type": "stream",
          "name": "stdout",
          "text": [
            "6\n"
          ]
        }
      ]
    },
    {
      "cell_type": "code",
      "source": [
        "def levenshtein_distance ( token1 , token2 ) :\n",
        "  # Your Code Here\n",
        "  set_str1 = set(token1)\n",
        "  set_str2 = set(token2)\n",
        "  individual_partition = set_str1 ^ set_str2\n",
        "  distance = 0\n",
        "  for char in individual_partition:\n",
        "    distance += 1\n",
        "  # End Code Here\n",
        "  return distance\n",
        "\n",
        "assert levenshtein_distance(\"hi\", \"hello\") == 4.0\n",
        "print ( levenshtein_distance (\"hola\", \"hello\") )"
      ],
      "metadata": {
        "colab": {
          "base_uri": "https://localhost:8080/"
        },
        "id": "F0bF5kieEneA",
        "outputId": "fc873647-54a5-49af-d5aa-9efd8adae7ac"
      },
      "execution_count": null,
      "outputs": [
        {
          "output_type": "stream",
          "name": "stdout",
          "text": [
            "2\n"
          ]
        }
      ]
    },
    {
      "cell_type": "code",
      "source": [
        "def check_the_number ( N ) :\n",
        "  list_of_numbers = []\n",
        "  result = \"\"\n",
        "  for i in range (1 , 5) :\n",
        "    # Your code here\n",
        "    list_of_numbers.append(i)\n",
        "    # Su dung append them i vao trong list_of_number\n",
        "  if N in list_of_numbers :\n",
        "    results = \" True \"\n",
        "  if N not in list_of_numbers :\n",
        "    results = \" False \"\n",
        "  return results\n",
        "\n",
        "N = 7\n",
        "assert check_the_number ( N ) == \" False \"\n",
        "N = 2\n",
        "results = check_the_number ( N )\n",
        "print ( results )"
      ],
      "metadata": {
        "colab": {
          "base_uri": "https://localhost:8080/"
        },
        "id": "nVatYPsFHUh-",
        "outputId": "77f8328e-9b52-4f25-ca85-403e13f3e301"
      },
      "execution_count": null,
      "outputs": [
        {
          "output_type": "stream",
          "name": "stdout",
          "text": [
            " True \n"
          ]
        }
      ]
    },
    {
      "cell_type": "code",
      "source": [
        "def my_function ( data , max , min) :\n",
        "  result = []\n",
        "  for i in data :\n",
        "    # Your code here\n",
        "    # Neu i < min thi them min vao result\n",
        "    if i < min :\n",
        "      result.append(min)\n",
        "    elif i > max :\n",
        "      result.append(max)\n",
        "    else:\n",
        "      result.append(i)\n",
        "  return result\n",
        "\n",
        "my_list = [5 , 2 , 5 , 0 , 1]\n",
        "max = 1\n",
        "min = 0\n",
        "assert my_function (max = max , min = min , data = my_list ) == [1 , 1 , 1 , 0 , 1]\n",
        "my_list = [10 , 2 , 5 , 0 , 1]\n",
        "max = 2\n",
        "min = 1\n",
        "print ( my_function (max = max , min = min , data = my_list ) )"
      ],
      "metadata": {
        "colab": {
          "base_uri": "https://localhost:8080/"
        },
        "id": "vzeoxCT_IOX8",
        "outputId": "b5c54f3b-16fd-43f7-e843-fe75b15e39fa"
      },
      "execution_count": null,
      "outputs": [
        {
          "output_type": "stream",
          "name": "stdout",
          "text": [
            "[2, 2, 2, 1, 1]\n"
          ]
        }
      ]
    },
    {
      "cell_type": "code",
      "source": [
        "def my_function (x , y ) :\n",
        "  # Your code here\n",
        "  #Su dung extend de noi y vao x\n",
        "  x.extend(y)\n",
        "  return x\n",
        "  # End Code Here\n",
        "  # return x\n",
        "\n",
        "list_num1 = ['a', 2 , 5]\n",
        "list_num2 = [1 , 1]\n",
        "list_num3 = [0 , 0]\n",
        "assert my_function(list_num1, my_function(list_num2,list_num3)) == ['a', 2 , 5 , 1 , 1 ,0 , 0]\n",
        "\n",
        "list_num1 = [1 , 2]\n",
        "list_num2 = [3 , 4]\n",
        "list_num3 = [0 , 0]\n",
        "\n",
        "print ( my_function ( list_num1 , my_function ( list_num2 , list_num3 ) ) )"
      ],
      "metadata": {
        "colab": {
          "base_uri": "https://localhost:8080/"
        },
        "id": "duqL5OO0JLjH",
        "outputId": "2a9cd904-6f33-427e-fcc9-9f93678d8740"
      },
      "execution_count": null,
      "outputs": [
        {
          "output_type": "stream",
          "name": "stdout",
          "text": [
            "[1, 2, 3, 4, 0, 0]\n"
          ]
        }
      ]
    },
    {
      "cell_type": "code",
      "source": [
        "def my_function(n):\n",
        "# Your code here\n",
        "  min = n[0]\n",
        "  for i in n:\n",
        "    if i < min:\n",
        "      min = i\n",
        "  return  min\n",
        "\n",
        "my_list = [1 , 22 , 93 , -100]\n",
        "assert my_function ( my_list ) == -100\n",
        "\n",
        "my_list = [1 , 2 , 3 , -1]\n",
        "print ( my_function ( my_list ) )"
      ],
      "metadata": {
        "colab": {
          "base_uri": "https://localhost:8080/"
        },
        "id": "tVNR5-foKPpU",
        "outputId": "91f55f13-6d52-45bd-e4ca-c5e3d9781ca0"
      },
      "execution_count": null,
      "outputs": [
        {
          "output_type": "stream",
          "name": "stdout",
          "text": [
            "-1\n"
          ]
        }
      ]
    },
    {
      "cell_type": "code",
      "source": [
        "def my_function ( n ) :\n",
        "  # Your code here\n",
        "  max = n[0]\n",
        "  for i in n:\n",
        "    if i > max:\n",
        "      max = i\n",
        "  return  max\n",
        "\n",
        "my_list = [1001 , 9 , 100 , 0]\n",
        "assert my_function ( my_list ) == 1001\n",
        "\n",
        "my_list = [1 , 9 , 9 , 0]\n",
        "print ( my_function ( my_list ) )"
      ],
      "metadata": {
        "colab": {
          "base_uri": "https://localhost:8080/"
        },
        "id": "kvZl4w-dLVH8",
        "outputId": "16b3187f-e4e8-42b8-d074-6771bfe9c643"
      },
      "execution_count": null,
      "outputs": [
        {
          "output_type": "stream",
          "name": "stdout",
          "text": [
            "9\n"
          ]
        }
      ]
    },
    {
      "cell_type": "code",
      "source": [
        "def My_function ( integers , number = 1):\n",
        "  for i in integers:\n",
        "    if i == number:\n",
        "      return True\n",
        "  return False\n",
        "my_list = [1 , 3 , 9 , 4]\n",
        "assert My_function ( my_list , -1) == False\n",
        "\n",
        "my_list = [1 , 2 , 3 , 4]\n",
        "print ( My_function ( my_list , 2) )"
      ],
      "metadata": {
        "colab": {
          "base_uri": "https://localhost:8080/"
        },
        "id": "uBkHBcI_LgxS",
        "outputId": "147370e1-e84b-4518-fc13-964eb51dc879"
      },
      "execution_count": null,
      "outputs": [
        {
          "output_type": "stream",
          "name": "stdout",
          "text": [
            "True\n"
          ]
        }
      ]
    },
    {
      "cell_type": "code",
      "source": [
        "def my_function ( list_nums = [0 , 1 , 2]) :\n",
        "  var = 0\n",
        "  for i in list_nums :\n",
        "    var += i\n",
        "  return var / len(list_nums)# Your code here : Tra ve gia tri trung binh cua list bang cach chia var cho so luong phan tu trong list_mums\n",
        "\n",
        "assert my_function ([4 , 6 , 8]) == 6\n",
        "print (my_function())"
      ],
      "metadata": {
        "colab": {
          "base_uri": "https://localhost:8080/"
        },
        "id": "wnxoFDFMMTtr",
        "outputId": "9595e985-d303-4e1d-80bd-e4018821eb75"
      },
      "execution_count": null,
      "outputs": [
        {
          "output_type": "stream",
          "name": "stdout",
          "text": [
            "1.0\n"
          ]
        }
      ]
    },
    {
      "cell_type": "code",
      "source": [
        "def my_function ( data ) :\n",
        "  var = []\n",
        "  for i in data :\n",
        "    if i % 3 == 0 :\n",
        "      var.append(i)\n",
        "  # Your code here\n",
        "  # Neu i chia het cho 3 thi them i vao list var\n",
        "  return var\n",
        "\n",
        "assert my_function ([3 , 9 , 4 , 5]) == [3 , 9]\n",
        "print ( my_function ([1 , 2 , 3 , 5 , 6]) )"
      ],
      "metadata": {
        "colab": {
          "base_uri": "https://localhost:8080/"
        },
        "id": "7-USWXdsMuAL",
        "outputId": "7c62be0a-d045-4726-ac63-dedb8aeea693"
      },
      "execution_count": null,
      "outputs": [
        {
          "output_type": "stream",
          "name": "stdout",
          "text": [
            "[3, 6]\n"
          ]
        }
      ]
    },
    {
      "cell_type": "code",
      "source": [
        "def my_function ( y ) :\n",
        "  var = 1\n",
        "  while ( y > 1) :\n",
        "  # Your code here\n",
        "    var *= y\n",
        "    y -= 1\n",
        "  # End Code Here\n",
        "  return var\n",
        "\n",
        "assert my_function (8) == 40320\n",
        "print ( my_function (4) )"
      ],
      "metadata": {
        "colab": {
          "base_uri": "https://localhost:8080/"
        },
        "id": "bNoiAMH6M7oe",
        "outputId": "550f9244-7a5b-442c-c21c-0e2c48780abe"
      },
      "execution_count": null,
      "outputs": [
        {
          "output_type": "stream",
          "name": "stdout",
          "text": [
            "24\n"
          ]
        }
      ]
    },
    {
      "cell_type": "code",
      "source": [
        "def my_function ( x ) :\n",
        "# your code here\n",
        "  return x[::-1]\n",
        "x = 'I can do it'\n",
        "assert my_function (x ) ==\"ti od nac I\"\n",
        "\n",
        "x = 'apricot'\n",
        "print ( my_function ( x ) )"
      ],
      "metadata": {
        "colab": {
          "base_uri": "https://localhost:8080/"
        },
        "id": "7UJadNeANhzj",
        "outputId": "b2d044b9-0a48-47b2-ce17-61cfe6e65c77"
      },
      "execution_count": null,
      "outputs": [
        {
          "output_type": "stream",
          "name": "stdout",
          "text": [
            "tocirpa\n"
          ]
        }
      ]
    },
    {
      "cell_type": "code",
      "source": [
        "def function_helper ( x ) :\n",
        "  # Your code here\n",
        "  # Neu x >0 tra ve ’T ’, nguoc lai tra ve ’N’\n",
        "  if x > 0:\n",
        "    return 'T'\n",
        "  else:\n",
        "    return 'N'\n",
        "  # End Code Here\n",
        "\n",
        "def my_function ( data ) :\n",
        "  res = [ function_helper ( x ) for x in data ]\n",
        "  return res\n",
        "\n",
        "data = [10 , 0 , -10 , -1]\n",
        "assert my_function ( data ) == ['T', 'N', 'N', 'N']\n",
        "\n",
        "data = [2 , 3 , 5 , -1]\n",
        "print ( my_function ( data ) )"
      ],
      "metadata": {
        "colab": {
          "base_uri": "https://localhost:8080/"
        },
        "id": "TXPknVTbO0bl",
        "outputId": "9ad9b797-0f95-4dd3-fc93-c805ef9f6051"
      },
      "execution_count": null,
      "outputs": [
        {
          "output_type": "stream",
          "name": "stdout",
          "text": [
            "['T', 'T', 'T', 'N']\n"
          ]
        }
      ]
    },
    {
      "cell_type": "code",
      "source": [
        "def function_helper (x , data ) :\n",
        "  for i in data :\n",
        "  # Your code here\n",
        "    if x == i :\n",
        "      return 0\n",
        "  # End Code Here\n",
        "  # Neu x == i thi return 0\n",
        "  return 1\n",
        "\n",
        "def my_function ( data ) :\n",
        "  res = []\n",
        "  for i in data :\n",
        "    if function_helper (i , res ) :\n",
        "      res.append ( i )\n",
        "  return res\n",
        "\n",
        "lst = [10 , 10 , 9 , 7 , 7]\n",
        "assert my_function ( lst ) ==[10 , 9 , 7]\n",
        "\n",
        "lst = [9 , 9 , 8 , 1 , 1]\n",
        "print ( my_function ( lst ) )"
      ],
      "metadata": {
        "colab": {
          "base_uri": "https://localhost:8080/"
        },
        "id": "nCnVvMLEPNaA",
        "outputId": "9fc52f48-baa5-474b-efc5-0e374f6bfcd9"
      },
      "execution_count": null,
      "outputs": [
        {
          "output_type": "stream",
          "name": "stdout",
          "text": [
            "[9, 8, 1]\n"
          ]
        }
      ]
    }
  ]
}